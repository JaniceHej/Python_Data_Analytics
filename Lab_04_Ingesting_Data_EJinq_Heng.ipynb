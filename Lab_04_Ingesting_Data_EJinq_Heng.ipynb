{
 "cells": [
  {
   "cell_type": "markdown",
   "metadata": {},
   "source": [
    "# Week 4 Lab Assignment\n",
    "# CIS 2266\n",
    "## Ingesting Data\n",
    "### E Jinq Heng"
   ]
  },
  {
   "cell_type": "markdown",
   "metadata": {},
   "source": [
    "# Write a program that:\n",
    "\n",
    "- Prompts for a the file name\n",
    "- Then opens that file and reads through it, looking for lines like X-DSPAM-Confidence\n",
    "- Extract the floating point values from the end of each of the lines\n",
    "- Sum the total\n",
    "- Count how many lines\n",
    "- Compute the average of those values and produce an output like:\n",
    "` Count: 27 `\n",
    "` Mean is: 0.7507185185185187 `"
   ]
  },
  {
   "cell_type": "code",
   "execution_count": 12,
   "metadata": {},
   "outputs": [
    {
     "name": "stdout",
     "output_type": "stream",
     "text": [
      "Please enter the file name: mbox-short.txt\n"
     ]
    }
   ],
   "source": [
    "# Prompt for a file name (mbox-short.txt), and read the file\n",
    "file = open(input(\"Please enter the file name: \"))"
   ]
  },
  {
   "cell_type": "code",
   "execution_count": 13,
   "metadata": {},
   "outputs": [
    {
     "name": "stdout",
     "output_type": "stream",
     "text": [
      "Sum is:  20.269400000000005\n",
      "Count:  27\n",
      "Mean is:  0.7507185185185187\n"
     ]
    }
   ],
   "source": [
    "# initialize search pharse and split string\n",
    "searchPhrase = \"X-DSPAM-Confidence\"\n",
    "split = \":\"\n",
    "totalValue = 0\n",
    "count = 0\n",
    "\n",
    "# create a for loop to search for searchPhrase and extract the float value after\n",
    "for i in file:\n",
    "    if i.startswith(searchPhrase):\n",
    "        # can also do print(i[19:27])\n",
    "        \n",
    "        value = float(i.partition(split)[2])\n",
    "        count += 1\n",
    "        totalValue += value\n",
    "    \n",
    "averageValue = totalValue/count\n",
    "\n",
    "print(\"Sum is: \", totalValue)\n",
    "print(\"Count: \", count)\n",
    "print(\"Mean is: \", averageValue)"
   ]
  }
 ],
 "metadata": {
  "kernelspec": {
   "display_name": "Python 3",
   "language": "python",
   "name": "python3"
  },
  "language_info": {
   "codemirror_mode": {
    "name": "ipython",
    "version": 3
   },
   "file_extension": ".py",
   "mimetype": "text/x-python",
   "name": "python",
   "nbconvert_exporter": "python",
   "pygments_lexer": "ipython3",
   "version": "3.7.3"
  }
 },
 "nbformat": 4,
 "nbformat_minor": 2
}
