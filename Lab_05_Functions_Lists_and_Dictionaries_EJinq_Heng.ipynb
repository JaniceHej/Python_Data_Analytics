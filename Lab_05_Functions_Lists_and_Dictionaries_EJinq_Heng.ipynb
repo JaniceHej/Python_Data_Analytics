{
 "cells": [
  {
   "cell_type": "markdown",
   "metadata": {},
   "source": [
    "# Week 5 Lab Assignment\n",
    "# CIS 2266\n",
    "## Functions, Lists, and Dictionaries\n",
    "### E Jinq Heng"
   ]
  },
  {
   "cell_type": "markdown",
   "metadata": {},
   "source": [
    "# Instructions:\n",
    "- Create a Jupyter notebook with a section for each of the three assignments below.\n",
    "- Attach the PDF or HTML output of the completed notebook file for grading."
   ]
  },
  {
   "cell_type": "markdown",
   "metadata": {},
   "source": [
    "## Functions (10 points)\n",
    "Write a program to prompt the user for hours and rate per hour using input to compute gross pay. Award time-and-a-half for the hourly rate for all hours worked above 40 hours. Put the logic to do the computation of time-and-a-half in a function called computepay() and use the function to do the computation.\n",
    "\n",
    "The function should return a value. Use 45 hours and a rate of 10.50 per hour to test the program (the pay should be 498.75). You should use input to read a string and float() to convert the string to a number.\n",
    "\n",
    "Do not worry about error checking the user input unless you want to - you can assume the user types numbers properly. Do not name your variable sum or use the sum() function."
   ]
  },
  {
   "cell_type": "code",
   "execution_count": 1,
   "metadata": {},
   "outputs": [],
   "source": [
    "def computePay(hours, rate):\n",
    "    REGULARHOUR = 40\n",
    "    if hours <= REGULARHOUR:\n",
    "        grossPay = hours * rate\n",
    "        print(\"You've worked \" + str(hours) + \" hours at $\" + str(rate) \n",
    "              + \" per hour.\")\n",
    "    else:\n",
    "        # create constant for regular hour\n",
    "        overtime = hours - REGULARHOUR\n",
    "        grossPay = (REGULARHOUR * rate) + (overtime * (rate * 1.5))\n",
    "        print(\"You've worked \" + str(hours) + \" hours at $\" + str(rate) + \" per hour, with \" \n",
    "              + str(overtime) + \" hours overtime.\")\n",
    "    return grossPay"
   ]
  },
  {
   "cell_type": "code",
   "execution_count": 2,
   "metadata": {},
   "outputs": [
    {
     "name": "stdout",
     "output_type": "stream",
     "text": [
      "Hours Worked: 45\n",
      "Hourly Rate : 10.50\n"
     ]
    }
   ],
   "source": [
    "# Get user input\n",
    "hours = float(input(\"Hours Worked: \"))\n",
    "rate = float(input(\"Hourly Rate : \"))"
   ]
  },
  {
   "cell_type": "code",
   "execution_count": 3,
   "metadata": {},
   "outputs": [
    {
     "name": "stdout",
     "output_type": "stream",
     "text": [
      "You've worked 45.0 hours at $10.5 per hour, with 5.0 hours overtime.\n",
      "Gross Pay = $ 498.75\n"
     ]
    }
   ],
   "source": [
    "print(\"Gross Pay = $\", computePay(hours, rate))"
   ]
  },
  {
   "cell_type": "markdown",
   "metadata": {},
   "source": [
    "## Lists (10 points)\n",
    "Open the file romeo.txt and read it line by line. For each line, split the line into a list of words using the split() method. The program should build a list of words.  When the program completes, sort and print the resulting words in alphabetical order."
   ]
  },
  {
   "cell_type": "code",
   "execution_count": 4,
   "metadata": {},
   "outputs": [
    {
     "name": "stdout",
     "output_type": "stream",
     "text": [
      "['Arise', 'But', 'It', 'Juliet', 'Who', 'already', 'and', 'breaks', 'east', 'envious', 'fair', 'grief', 'is', 'kill', 'light', 'moon', 'pale', 'sick', 'soft', 'sun', 'the', 'through', 'what', 'window', 'with', 'yonder']\n"
     ]
    }
   ],
   "source": [
    "# open and read file\n",
    "file = open(\"romeo.txt\")\n",
    "\n",
    "# create an empty list\n",
    "wordList = []\n",
    "\n",
    "# loop through file\n",
    "for line in file:\n",
    "    sentenceList = line.split()     # split each sentence into individual list\n",
    "    for word in sentenceList:       # loop through each word in the sentence\n",
    "        if word not in wordList:\n",
    "            wordList.append(word)   # add word to wordList if word is not already in the list\n",
    "        else:\n",
    "            continue\n",
    "\n",
    "# sort the final word list and print list\n",
    "wordList.sort()\n",
    "print(wordList)\n",
    "    "
   ]
  },
  {
   "cell_type": "markdown",
   "metadata": {},
   "source": [
    "## Dictionaries (10 points)\n",
    "Write a program to read through the mbox-short.txt file and figure out who has the sent the greatest number of mail messages.\n",
    "\n",
    "The program looks for 'From ' lines and takes the second word of those lines as the person who sent the mail.  The program creates a Python dictionary that maps the sender's mail address to a count of the number of times they appear in the file. "
   ]
  },
  {
   "cell_type": "code",
   "execution_count": 5,
   "metadata": {},
   "outputs": [
    {
     "name": "stdout",
     "output_type": "stream",
     "text": [
      "{'stephen.marquard@uct.ac.za': 2, 'louis@media.berkeley.edu': 3, 'zqian@umich.edu': 4, 'rjlowe@iupui.edu': 2, 'cwen@iupui.edu': 5, 'gsilver@umich.edu': 3, 'wagnermr@iupui.edu': 1, 'antranig@caret.cam.ac.uk': 1, 'gopal.ramasammycook@gmail.com': 1, 'david.horwitz@uct.ac.za': 4, 'ray@media.berkeley.edu': 1}\n"
     ]
    }
   ],
   "source": [
    "# open and read file\n",
    "file = open(\"mbox-short.txt\")\n",
    "\n",
    "# initialize variables\n",
    "searchPhrase = \"From:\"\n",
    "split = \" \"\n",
    "dictionary = {}\n",
    "emailsList = []\n",
    "count = 0\n",
    "\n",
    "# loop through file and search for search phrase\n",
    "for line in file:\n",
    "    if line.startswith(searchPhrase):\n",
    "        email = line.rstrip().partition(split)[2]          # strip the email address from the search phrase\n",
    "        emailsList.append(email)                           # add searched email to emailsList\n",
    "\n",
    "# loop through emailsList and establish count\n",
    "for email in emailsList:\n",
    "    if email not in dictionary:                            # create email as key and count = 1 if email is new key\n",
    "        count = 1\n",
    "        dictionary[email] = count\n",
    "    else:\n",
    "        dictionary[email] = dictionary.get(email, 0) + 1   # if email is an existing key, increase the count\n",
    "\n",
    "# print dictionary of sender and count              \n",
    "print(dictionary)"
   ]
  }
 ],
 "metadata": {
  "kernelspec": {
   "display_name": "Python 3",
   "language": "python",
   "name": "python3"
  },
  "language_info": {
   "codemirror_mode": {
    "name": "ipython",
    "version": 3
   },
   "file_extension": ".py",
   "mimetype": "text/x-python",
   "name": "python",
   "nbconvert_exporter": "python",
   "pygments_lexer": "ipython3",
   "version": "3.7.3"
  }
 },
 "nbformat": 4,
 "nbformat_minor": 2
}
