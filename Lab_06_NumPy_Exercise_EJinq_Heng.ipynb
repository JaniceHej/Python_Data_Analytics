{
 "cells": [
  {
   "cell_type": "markdown",
   "metadata": {},
   "source": [
    "## Week 6 Lab Assignment\n",
    "# CIS 2266\n",
    "## NumPy Exercise\n",
    "### E Jinq Heng"
   ]
  },
  {
   "cell_type": "markdown",
   "metadata": {},
   "source": [
    "- Create a new Jupyter Notebook\n",
    "- Import numpy \n",
    "- Work the problems below (3 points each)\n",
    "- Submit an html output of your work to the dropbox for grading\n",
    "\n",
    "First, make a common array to work with."
   ]
  },
  {
   "cell_type": "code",
   "execution_count": 1,
   "metadata": {},
   "outputs": [
    {
     "data": {
      "text/plain": [
       "array([[ 80842, 333008, 202553, 140037,  81969],\n",
       "       [ 63857,  42105, 261540, 481981, 176739],\n",
       "       [489984, 326386, 110795, 394863,  25024],\n",
       "       [ 38317,  49982, 408830, 485118,  16119],\n",
       "       [407675, 231729, 265455, 109413, 103399],\n",
       "       [174677, 343356, 301717, 224120, 401101],\n",
       "       [140473, 254634, 112262,  25063, 108262],\n",
       "       [375059, 406983, 208947, 115641, 296685],\n",
       "       [444899, 129585, 171318, 313094, 425041],\n",
       "       [188411, 335140, 141681,  59641, 211420],\n",
       "       [287650,   8973, 477425, 382803, 465168],\n",
       "       [  3975,  32213, 160603, 275485, 388234],\n",
       "       [246225,  56174, 244097,   9350, 496966],\n",
       "       [225516, 273338,  73335, 283013, 212813],\n",
       "       [ 38175, 282399, 318413, 337639, 379802],\n",
       "       [198049, 101115, 419547, 260219, 325793],\n",
       "       [148593, 425024, 348570, 117968, 107007],\n",
       "       [ 52547, 180346, 178760, 305186, 262153],\n",
       "       [ 11835, 449971, 494184, 472031, 353049],\n",
       "       [476442,  35455, 191553, 384154,  29917]])"
      ]
     },
     "execution_count": 1,
     "metadata": {},
     "output_type": "execute_result"
    }
   ],
   "source": [
    "import numpy as np\n",
    "np.random.seed(21)\n",
    "random_integers = np.random.randint(1,high=500000, size=(20, 5))\n",
    "random_integers"
   ]
  },
  {
   "cell_type": "markdown",
   "metadata": {},
   "source": [
    "### 1. What is the average value of the second column?"
   ]
  },
  {
   "cell_type": "code",
   "execution_count": 2,
   "metadata": {},
   "outputs": [
    {
     "name": "stdout",
     "output_type": "stream",
     "text": [
      "214895.8\n"
     ]
    }
   ],
   "source": [
    "avg = np.average(random_integers[:20, 1:2])\n",
    "print(avg)"
   ]
  },
  {
   "cell_type": "markdown",
   "metadata": {},
   "source": [
    "### 2. What is the average value of the first 5 rows of the third and fourth columns?"
   ]
  },
  {
   "cell_type": "code",
   "execution_count": 3,
   "metadata": {},
   "outputs": [
    {
     "name": "stdout",
     "output_type": "stream",
     "text": [
      "286058.5\n"
     ]
    }
   ],
   "source": [
    "avg = np.average(random_integers[:5, 2:4])\n",
    "print(avg)"
   ]
  },
  {
   "cell_type": "markdown",
   "metadata": {},
   "source": [
    "### 3. Create a 10 x 10 slice from of random_integers array, named arrayTenByTen, that started at 0:0 from random_integers"
   ]
  },
  {
   "cell_type": "code",
   "execution_count": 4,
   "metadata": {},
   "outputs": [
    {
     "name": "stdout",
     "output_type": "stream",
     "text": [
      "[[ 80842 333008 202553 140037  81969  63857  42105 261540 481981 176739]\n",
      " [489984 326386 110795 394863  25024  38317  49982 408830 485118  16119]\n",
      " [407675 231729 265455 109413 103399 174677 343356 301717 224120 401101]\n",
      " [140473 254634 112262  25063 108262 375059 406983 208947 115641 296685]\n",
      " [444899 129585 171318 313094 425041 188411 335140 141681  59641 211420]\n",
      " [287650   8973 477425 382803 465168   3975  32213 160603 275485 388234]\n",
      " [246225  56174 244097   9350 496966 225516 273338  73335 283013 212813]\n",
      " [ 38175 282399 318413 337639 379802 198049 101115 419547 260219 325793]\n",
      " [148593 425024 348570 117968 107007  52547 180346 178760 305186 262153]\n",
      " [ 11835 449971 494184 472031 353049 476442  35455 191553 384154  29917]]\n"
     ]
    }
   ],
   "source": [
    "arrayTenByTen = random_integers.reshape((10,10))\n",
    "print(arrayTenByTen)"
   ]
  },
  {
   "cell_type": "markdown",
   "metadata": {},
   "source": [
    "### 4. Create a new array from the arrayTenByTen that is one rank and called arrayTenFlat"
   ]
  },
  {
   "cell_type": "code",
   "execution_count": 5,
   "metadata": {},
   "outputs": [
    {
     "name": "stdout",
     "output_type": "stream",
     "text": [
      "[ 80842 333008 202553 140037  81969  63857  42105 261540 481981 176739\n",
      " 489984 326386 110795 394863  25024  38317  49982 408830 485118  16119\n",
      " 407675 231729 265455 109413 103399 174677 343356 301717 224120 401101\n",
      " 140473 254634 112262  25063 108262 375059 406983 208947 115641 296685\n",
      " 444899 129585 171318 313094 425041 188411 335140 141681  59641 211420\n",
      " 287650   8973 477425 382803 465168   3975  32213 160603 275485 388234\n",
      " 246225  56174 244097   9350 496966 225516 273338  73335 283013 212813\n",
      "  38175 282399 318413 337639 379802 198049 101115 419547 260219 325793\n",
      " 148593 425024 348570 117968 107007  52547 180346 178760 305186 262153\n",
      "  11835 449971 494184 472031 353049 476442  35455 191553 384154  29917]\n",
      "\n",
      "The shape of the arrayTenFlat is (100,)\n"
     ]
    }
   ],
   "source": [
    "arrayTenFlat = arrayTenByTen.reshape((100,))\n",
    "print(arrayTenFlat)\n",
    "print(\"\\nThe shape of the arrayTenFlat is\", arrayTenFlat.shape)"
   ]
  },
  {
   "cell_type": "markdown",
   "metadata": {},
   "source": [
    "### 5. What is the sum of arrayTenFlat?"
   ]
  },
  {
   "cell_type": "code",
   "execution_count": 6,
   "metadata": {},
   "outputs": [
    {
     "name": "stdout",
     "output_type": "stream",
     "text": [
      "23526182\n"
     ]
    }
   ],
   "source": [
    "print(np.sum(arrayTenFlat))"
   ]
  },
  {
   "cell_type": "markdown",
   "metadata": {},
   "source": [
    "### 6. Iterate through arrayTenFlat"
   ]
  },
  {
   "cell_type": "code",
   "execution_count": 7,
   "metadata": {},
   "outputs": [
    {
     "name": "stdout",
     "output_type": "stream",
     "text": [
      "80842\n",
      "333008\n",
      "202553\n",
      "140037\n",
      "81969\n",
      "63857\n",
      "42105\n",
      "261540\n",
      "481981\n",
      "176739\n",
      "489984\n",
      "326386\n",
      "110795\n",
      "394863\n",
      "25024\n",
      "38317\n",
      "49982\n",
      "408830\n",
      "485118\n",
      "16119\n",
      "407675\n",
      "231729\n",
      "265455\n",
      "109413\n",
      "103399\n",
      "174677\n",
      "343356\n",
      "301717\n",
      "224120\n",
      "401101\n",
      "140473\n",
      "254634\n",
      "112262\n",
      "25063\n",
      "108262\n",
      "375059\n",
      "406983\n",
      "208947\n",
      "115641\n",
      "296685\n",
      "444899\n",
      "129585\n",
      "171318\n",
      "313094\n",
      "425041\n",
      "188411\n",
      "335140\n",
      "141681\n",
      "59641\n",
      "211420\n",
      "287650\n",
      "8973\n",
      "477425\n",
      "382803\n",
      "465168\n",
      "3975\n",
      "32213\n",
      "160603\n",
      "275485\n",
      "388234\n",
      "246225\n",
      "56174\n",
      "244097\n",
      "9350\n",
      "496966\n",
      "225516\n",
      "273338\n",
      "73335\n",
      "283013\n",
      "212813\n",
      "38175\n",
      "282399\n",
      "318413\n",
      "337639\n",
      "379802\n",
      "198049\n",
      "101115\n",
      "419547\n",
      "260219\n",
      "325793\n",
      "148593\n",
      "425024\n",
      "348570\n",
      "117968\n",
      "107007\n",
      "52547\n",
      "180346\n",
      "178760\n",
      "305186\n",
      "262153\n",
      "11835\n",
      "449971\n",
      "494184\n",
      "472031\n",
      "353049\n",
      "476442\n",
      "35455\n",
      "191553\n",
      "384154\n",
      "29917\n"
     ]
    }
   ],
   "source": [
    "for i in arrayTenFlat:\n",
    "    print(i)"
   ]
  },
  {
   "cell_type": "markdown",
   "metadata": {},
   "source": [
    "### 7. What is the value of the element (2,4) in random_integers array?"
   ]
  },
  {
   "cell_type": "code",
   "execution_count": 8,
   "metadata": {},
   "outputs": [
    {
     "name": "stdout",
     "output_type": "stream",
     "text": [
      "25024\n"
     ]
    }
   ],
   "source": [
    "print(random_integers[2,4])"
   ]
  },
  {
   "cell_type": "markdown",
   "metadata": {},
   "source": [
    "### 8. What is the data type of arrayTenFlat?"
   ]
  },
  {
   "cell_type": "code",
   "execution_count": 9,
   "metadata": {},
   "outputs": [
    {
     "data": {
      "text/plain": [
       "dtype('int32')"
      ]
     },
     "execution_count": 9,
     "metadata": {},
     "output_type": "execute_result"
    }
   ],
   "source": [
    "arrayTenFlat.dtype"
   ]
  },
  {
   "cell_type": "markdown",
   "metadata": {},
   "source": [
    "### 9. In arrayTenFlat replace the value in index 5 with 42"
   ]
  },
  {
   "cell_type": "code",
   "execution_count": 10,
   "metadata": {},
   "outputs": [
    {
     "name": "stdout",
     "output_type": "stream",
     "text": [
      "[ 80842 333008 202553 140037  81969     42  42105 261540 481981 176739\n",
      " 489984 326386 110795 394863  25024  38317  49982 408830 485118  16119\n",
      " 407675 231729 265455 109413 103399 174677 343356 301717 224120 401101\n",
      " 140473 254634 112262  25063 108262 375059 406983 208947 115641 296685\n",
      " 444899 129585 171318 313094 425041 188411 335140 141681  59641 211420\n",
      " 287650   8973 477425 382803 465168   3975  32213 160603 275485 388234\n",
      " 246225  56174 244097   9350 496966 225516 273338  73335 283013 212813\n",
      "  38175 282399 318413 337639 379802 198049 101115 419547 260219 325793\n",
      " 148593 425024 348570 117968 107007  52547 180346 178760 305186 262153\n",
      "  11835 449971 494184 472031 353049 476442  35455 191553 384154  29917]\n"
     ]
    }
   ],
   "source": [
    "arrayTenFlat[5] = 42\n",
    "print(arrayTenFlat)"
   ]
  },
  {
   "cell_type": "markdown",
   "metadata": {},
   "source": [
    "### 10. Save the array random_integers to a file.  List the directory showing the saved array."
   ]
  },
  {
   "cell_type": "code",
   "execution_count": 11,
   "metadata": {},
   "outputs": [
    {
     "name": "stdout",
     "output_type": "stream",
     "text": [
      "[[ 80842 333008 202553 140037  81969]\n",
      " [    42  42105 261540 481981 176739]\n",
      " [489984 326386 110795 394863  25024]\n",
      " [ 38317  49982 408830 485118  16119]\n",
      " [407675 231729 265455 109413 103399]\n",
      " [174677 343356 301717 224120 401101]\n",
      " [140473 254634 112262  25063 108262]\n",
      " [375059 406983 208947 115641 296685]\n",
      " [444899 129585 171318 313094 425041]\n",
      " [188411 335140 141681  59641 211420]\n",
      " [287650   8973 477425 382803 465168]\n",
      " [  3975  32213 160603 275485 388234]\n",
      " [246225  56174 244097   9350 496966]\n",
      " [225516 273338  73335 283013 212813]\n",
      " [ 38175 282399 318413 337639 379802]\n",
      " [198049 101115 419547 260219 325793]\n",
      " [148593 425024 348570 117968 107007]\n",
      " [ 52547 180346 178760 305186 262153]\n",
      " [ 11835 449971 494184 472031 353049]\n",
      " [476442  35455 191553 384154  29917]]\n"
     ]
    }
   ],
   "source": [
    "np.save(\"saved_array\", random_integers)\n",
    "load = np.load(\"saved_array.npy\")\n",
    "print(load)"
   ]
  },
  {
   "cell_type": "code",
   "execution_count": 12,
   "metadata": {},
   "outputs": [
    {
     "name": "stdout",
     "output_type": "stream",
     "text": [
      "C:\\Users\\JaniceJ\\Documents\\Fall 2019\\CIS2266 Python for Data Analytics\\saved_array.npy\n"
     ]
    }
   ],
   "source": [
    "import os\n",
    "print(os.path.realpath(\"saved_array.npy\"))"
   ]
  }
 ],
 "metadata": {
  "kernelspec": {
   "display_name": "Python 3",
   "language": "python",
   "name": "python3"
  },
  "language_info": {
   "codemirror_mode": {
    "name": "ipython",
    "version": 3
   },
   "file_extension": ".py",
   "mimetype": "text/x-python",
   "name": "python",
   "nbconvert_exporter": "python",
   "pygments_lexer": "ipython3",
   "version": "3.7.3"
  }
 },
 "nbformat": 4,
 "nbformat_minor": 2
}
