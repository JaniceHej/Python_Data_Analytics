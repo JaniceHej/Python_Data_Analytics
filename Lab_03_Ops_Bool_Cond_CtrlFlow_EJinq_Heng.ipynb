{
 "cells": [
  {
   "cell_type": "markdown",
   "metadata": {},
   "source": [
    "# Week 3 Lab Assignment\n",
    "## CIS 2266\n",
    "## Operation, Boolean, Conditionals, and Control Flow\n",
    "### E Jinq Heng"
   ]
  },
  {
   "cell_type": "markdown",
   "metadata": {},
   "source": [
    "Create a Jupyter notebook with a section for each of two assignments below.\n",
    "Attach the completed notebook (.ipynb) file for grading\n",
    "\n",
    "### Conditional Execution (15 points)\n",
    "Write a program to prompt for a score between 0.0 and 1.0. If the score is out of range, print an error. If the score is between 0.0 and 1.0, print a grade using the following table:"
   ]
  },
  {
   "cell_type": "raw",
   "metadata": {},
   "source": [
    "Score Grade\n",
    ">= 0.9 A\n",
    ">= 0.8 B\n",
    ">= 0.7 C\n",
    ">= 0.6 D\n",
    "<  0.6 F"
   ]
  },
  {
   "cell_type": "markdown",
   "metadata": {},
   "source": [
    "If the user enters a value out of range, print a suitable error message and exit. For the test, enter a score of 0.85."
   ]
  },
  {
   "cell_type": "code",
   "execution_count": 1,
   "metadata": {},
   "outputs": [
    {
     "name": "stdout",
     "output_type": "stream",
     "text": [
      "Please enter a score between 0.0 and 1.0: 0.85\n",
      "You entered:  0.85\n"
     ]
    }
   ],
   "source": [
    "# Prompt user for a score between 0.0 and 1.0\n",
    "score = float(input(\"Please enter a score between 0.0 and 1.0: \"))\n",
    "print(\"You entered: \", score)"
   ]
  },
  {
   "cell_type": "code",
   "execution_count": 2,
   "metadata": {},
   "outputs": [
    {
     "name": "stdout",
     "output_type": "stream",
     "text": [
      "Grade B\n"
     ]
    }
   ],
   "source": [
    "if score < 0.0 or score > 1.0:\n",
    "    print(\"Score is out of range, please enter a score between 0.0 and 1.0.\")\n",
    "elif score >= 0.9:\n",
    "    print(\"Grade A\")\n",
    "elif score >= 0.8:\n",
    "    print(\"Grade B\")\n",
    "elif score >= 0.7:\n",
    "    print(\"Grade C\")\n",
    "elif score >= 0.6:\n",
    "    print(\"Grade D\")\n",
    "else:\n",
    "    print(\"Grade F\")"
   ]
  },
  {
   "cell_type": "markdown",
   "metadata": {},
   "source": [
    "### Functions (15 points)\n",
    "Write a program to prompt the user for hours and rate per hour using input to compute gross pay. Award time-and-a-half for the hourly rate for all hours worked above 40 hours. \n",
    "\n",
    "The function should return a value. Use 45 hours and a rate of 10.50 per hour to test the program (the pay should be 498.75). You should use input to read a string and float() to convert the string to a number.\n",
    "\n",
    "Do not worry about error checking the user input unless you want to - you can assume the user types numbers properly. Do not name your variable sum or use the sum() function."
   ]
  },
  {
   "cell_type": "code",
   "execution_count": 22,
   "metadata": {},
   "outputs": [],
   "source": [
    "def payComp(hours, rate):\n",
    "    REGULARHOUR = 40\n",
    "    if hours <= REGULARHOUR:\n",
    "        grossPay = hours * rate\n",
    "        print(\"You've worked \" + str(hours) + \" hours at $\" + str(rate) \n",
    "              + \" per hour. Your gross pay is \" + str(grossPay) + \". \")\n",
    "    else:\n",
    "        # create constant for regular hour\n",
    "        overtime = hours - REGULARHOUR\n",
    "        grossPay = (REGULARHOUR * rate) + (overtime * (rate * 1.5))\n",
    "        print(\"You've worked \" + str(hours) + \" hours at $\" + str(rate) + \" per hour, with \" \n",
    "              + str(overtime) + \" hours overtime. Your gross pay is \" + str(grossPay) + \". \")"
   ]
  },
  {
   "cell_type": "code",
   "execution_count": 23,
   "metadata": {},
   "outputs": [
    {
     "name": "stdout",
     "output_type": "stream",
     "text": [
      "Hours Worked : 45\n",
      "Rate per Hour: 10.50\n"
     ]
    }
   ],
   "source": [
    "# Get user input\n",
    "hoursWorked = input(\"Hours Worked: \")\n",
    "hourlyRate = input(\"Hourly Rate : \")"
   ]
  },
  {
   "cell_type": "code",
   "execution_count": 24,
   "metadata": {},
   "outputs": [
    {
     "name": "stdout",
     "output_type": "stream",
     "text": [
      "You've worked 45.0 hours at $10.5 per hour, with 5.0 hours overtime. Your gross pay is 498.75. \n"
     ]
    }
   ],
   "source": [
    "payComp(hours, rate)"
   ]
  }
 ],
 "metadata": {
  "kernelspec": {
   "display_name": "Python 3",
   "language": "python",
   "name": "python3"
  },
  "language_info": {
   "codemirror_mode": {
    "name": "ipython",
    "version": 3
   },
   "file_extension": ".py",
   "mimetype": "text/x-python",
   "name": "python",
   "nbconvert_exporter": "python",
   "pygments_lexer": "ipython3",
   "version": "3.7.3"
  }
 },
 "nbformat": 4,
 "nbformat_minor": 2
}
