{
 "cells": [
  {
   "cell_type": "code",
   "execution_count": 2,
   "metadata": {},
   "outputs": [
    {
     "data": {
      "text/plain": [
       "'C:\\\\Users\\\\JaniceJ\\\\Documents\\\\Fall 2019\\\\CIS2266 Python for Data Analytics'"
      ]
     },
     "execution_count": 2,
     "metadata": {},
     "output_type": "execute_result"
    }
   ],
   "source": [
    "pwd"
   ]
  },
  {
   "cell_type": "code",
   "execution_count": 3,
   "metadata": {},
   "outputs": [
    {
     "name": "stdout",
     "output_type": "stream",
     "text": [
      " Volume in drive C is Blade\n",
      " Volume Serial Number is CAC2-0087\n",
      "\n",
      " Directory of C:\\Users\\JaniceJ\\Documents\\Fall 2019\\CIS2266 Python for Data Analytics\n",
      "\n",
      "09/17/2019  11:08 AM    <DIR>          .\n",
      "09/17/2019  11:08 AM    <DIR>          ..\n",
      "09/17/2019  11:08 AM    <DIR>          .ipynb_checkpoints\n",
      "08/29/2019  12:03 PM            53,888 00-Running_Code.ipynb\n",
      "08/27/2019  12:06 PM               980 08272019.ipynb\n",
      "08/27/2019  11:33 AM        12,639,268 2015_Book_PythonDataAnalytics.pdf\n",
      "08/27/2019  12:02 PM           519,957 Anaconda-Starter-Guide-Cheat-Sheet.pdf\n",
      "08/27/2019  12:02 PM         1,785,862 beginners_python_cheat_sheet_pcc_all.pdf\n",
      "08/29/2019  11:18 AM             2,411 CIS_2266_Week_1_EJinq_Heng.ipynb\n",
      "08/30/2019  11:08 PM           100,194 git-cheat-sheet-education.pdf\n",
      "09/12/2019  02:51 AM             2,171 Lab_02_Variables_and_Statements_EJinq_Heng.ipynb\n",
      "09/12/2019  12:15 PM             4,923 Lab_03_Ops_Bool_Cond_CtrlFlow_EJinq_Heng.ipynb\n",
      "08/27/2019  11:06 AM    <DIR>          Python-Data-Analytics-Chapters\n",
      "08/27/2019  11:05 AM         2,361,626 pythonlearn.pdf\n",
      "09/17/2019  11:08 AM                72 Untitled.ipynb\n",
      "09/12/2019  02:51 AM             5,459 Week3_Lecture.ipynb\n",
      "              12 File(s)     17,476,811 bytes\n",
      "               4 Dir(s)  31,328,571,392 bytes free\n"
     ]
    }
   ],
   "source": [
    "ls"
   ]
  },
  {
   "cell_type": "raw",
   "metadata": {},
   "source": [
    "Open files in three modes: r = read w = write a = append\n",
    "Put the files into a variable\n",
    "open(\"file name and/or path\", \"r\") <--- blank is r by default"
   ]
  },
  {
   "cell_type": "code",
   "execution_count": 27,
   "metadata": {},
   "outputs": [],
   "source": [
    "pwfile = open(\"mbox-short.txt\")"
   ]
  },
  {
   "cell_type": "code",
   "execution_count": 20,
   "metadata": {},
   "outputs": [
    {
     "name": "stdout",
     "output_type": "stream",
     "text": [
      "<_io.TextIOWrapper name='mbox-short.txt' mode='r' encoding='cp1252'>\n"
     ]
    }
   ],
   "source": [
    "# print wrapper & tags\n",
    "print(pwfile)"
   ]
  },
  {
   "cell_type": "code",
   "execution_count": 25,
   "metadata": {},
   "outputs": [],
   "source": [
    "# for x in location, print something\n",
    "for line in pwfile:\n",
    "    print(line)"
   ]
  },
  {
   "cell_type": "code",
   "execution_count": 1,
   "metadata": {},
   "outputs": [
    {
     "ename": "NameError",
     "evalue": "name 'pwfile' is not defined",
     "output_type": "error",
     "traceback": [
      "\u001b[1;31m---------------------------------------------------------------------------\u001b[0m",
      "\u001b[1;31mNameError\u001b[0m                                 Traceback (most recent call last)",
      "\u001b[1;32m<ipython-input-1-bcc4c09b1202>\u001b[0m in \u001b[0;36m<module>\u001b[1;34m\u001b[0m\n\u001b[0;32m      1\u001b[0m \u001b[0mcount\u001b[0m \u001b[1;33m=\u001b[0m \u001b[1;36m0\u001b[0m\u001b[1;33m;\u001b[0m\u001b[1;33m\u001b[0m\u001b[1;33m\u001b[0m\u001b[0m\n\u001b[1;32m----> 2\u001b[1;33m \u001b[1;32mfor\u001b[0m \u001b[0mi\u001b[0m \u001b[1;32min\u001b[0m \u001b[0mpwfile\u001b[0m\u001b[1;33m:\u001b[0m\u001b[1;33m\u001b[0m\u001b[1;33m\u001b[0m\u001b[0m\n\u001b[0m\u001b[0;32m      3\u001b[0m     \u001b[1;32mif\u001b[0m \u001b[0mi\u001b[0m\u001b[1;33m.\u001b[0m\u001b[0mstartswith\u001b[0m\u001b[1;33m(\u001b[0m\u001b[1;34m\"This\"\u001b[0m\u001b[1;33m)\u001b[0m\u001b[1;33m:\u001b[0m\u001b[1;33m\u001b[0m\u001b[1;33m\u001b[0m\u001b[0m\n\u001b[0;32m      4\u001b[0m         \u001b[0mprint\u001b[0m\u001b[1;33m(\u001b[0m\u001b[0mi\u001b[0m\u001b[1;33m)\u001b[0m\u001b[1;33m\u001b[0m\u001b[1;33m\u001b[0m\u001b[0m\n\u001b[0;32m      5\u001b[0m         \u001b[0mprint\u001b[0m\u001b[1;33m(\u001b[0m\u001b[0mlen\u001b[0m\u001b[1;33m(\u001b[0m\u001b[0mi\u001b[0m\u001b[1;33m)\u001b[0m\u001b[1;33m)\u001b[0m\u001b[1;33m\u001b[0m\u001b[1;33m\u001b[0m\u001b[0m\n",
      "\u001b[1;31mNameError\u001b[0m: name 'pwfile' is not defined"
     ]
    }
   ],
   "source": [
    "count = 0;\n",
    "for i in pwfile:\n",
    "    if i.startswith(\"This\"):\n",
    "        print(i)\n",
    "        print(len(i))\n",
    "        count += 1\n",
    "print (\"Count = \", count)"
   ]
  },
  {
   "cell_type": "code",
   "execution_count": 7,
   "metadata": {},
   "outputs": [
    {
     "name": "stdout",
     "output_type": "stream",
     "text": [
      "14:16 2008\n",
      "\n",
      "@uct.ac.za\n",
      "\n",
      "02:32 2008\n",
      "\n",
      "@uct.ac.za\n",
      "\n",
      "08:27 2008\n",
      "\n",
      "@uct.ac.za\n",
      "\n",
      "49:08 2008\n",
      "\n",
      "@uct.ac.za\n",
      "\n",
      "33:44 2008\n",
      "\n",
      "@uct.ac.za\n",
      "\n",
      "07:34 2008\n",
      "\n",
      "@uct.ac.za\n",
      "\n"
     ]
    }
   ],
   "source": [
    "# Looking for email addresses (keyword \"From\")\n",
    "mbtxt = open(\"mbox-short.txt\")\n",
    "for line in mbtxt:\n",
    "    if line.startswith(\"From\"):\n",
    "        if not \"@uct.ac.za\" in line:\n",
    "            continue\n",
    "        # starting from the left\n",
    "        print(line[-11:])"
   ]
  },
  {
   "cell_type": "code",
   "execution_count": 9,
   "metadata": {},
   "outputs": [
    {
     "name": "stdout",
     "output_type": "stream",
     "text": [
      "Variable   Type             Data/Info\n",
      "-------------------------------------\n",
      "count      int              0\n",
      "line       str              \\n\n",
      "mbtxt      TextIOWrapper    <_io.TextIOWrapper name='<...>de='r' encoding='cp1252'>\n"
     ]
    }
   ],
   "source": [
    "# %whos gives a list of all the variables\n",
    "%whos"
   ]
  }
 ],
 "metadata": {
  "kernelspec": {
   "display_name": "Python 3",
   "language": "python",
   "name": "python3"
  }
 },
 "nbformat": 4,
 "nbformat_minor": 2
}
