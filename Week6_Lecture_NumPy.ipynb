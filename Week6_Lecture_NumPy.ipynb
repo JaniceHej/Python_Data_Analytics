{
 "cells": [
  {
   "cell_type": "markdown",
   "metadata": {},
   "source": [
    "### NumPy"
   ]
  },
  {
   "cell_type": "markdown",
   "metadata": {},
   "source": [
    "### Array of the same value"
   ]
  },
  {
   "cell_type": "code",
   "execution_count": 2,
   "metadata": {},
   "outputs": [],
   "source": [
    "# get numpy (preinstalled in Anaconda)\n",
    "import numpy as np"
   ]
  },
  {
   "cell_type": "code",
   "execution_count": 3,
   "metadata": {},
   "outputs": [
    {
     "data": {
      "text/plain": [
       "<module 'numpy.version' from 'C:\\\\Users\\\\JaniceJ\\\\Anaconda3\\\\lib\\\\site-packages\\\\numpy\\\\version.py'>"
      ]
     },
     "execution_count": 3,
     "metadata": {},
     "output_type": "execute_result"
    }
   ],
   "source": [
    "# np and the [TAB] key\n",
    "np.version"
   ]
  },
  {
   "cell_type": "code",
   "execution_count": 6,
   "metadata": {},
   "outputs": [],
   "source": [
    "# rank 1 array [,,]\n",
    "a = np.array([1,2,3])"
   ]
  },
  {
   "cell_type": "code",
   "execution_count": 7,
   "metadata": {},
   "outputs": [
    {
     "name": "stdout",
     "output_type": "stream",
     "text": [
      "<class 'numpy.ndarray'>\n"
     ]
    }
   ],
   "source": [
    "print(type(a))"
   ]
  },
  {
   "cell_type": "code",
   "execution_count": 8,
   "metadata": {},
   "outputs": [
    {
     "name": "stdout",
     "output_type": "stream",
     "text": [
      "The Shape\n"
     ]
    },
    {
     "data": {
      "text/plain": [
       "(3,)"
      ]
     },
     "execution_count": 8,
     "metadata": {},
     "output_type": "execute_result"
    }
   ],
   "source": [
    "print(\"The Shape\")\n",
    "a.shape"
   ]
  },
  {
   "cell_type": "code",
   "execution_count": 9,
   "metadata": {},
   "outputs": [
    {
     "name": "stdout",
     "output_type": "stream",
     "text": [
      "[1 2 3]\n"
     ]
    }
   ],
   "source": [
    "print(a)"
   ]
  },
  {
   "cell_type": "code",
   "execution_count": 13,
   "metadata": {},
   "outputs": [],
   "source": [
    "# rank 2 array ([[,],[,]])\n",
    "b = np.array([[2.5,6.1],[8.1,1.2]])"
   ]
  },
  {
   "cell_type": "code",
   "execution_count": 14,
   "metadata": {},
   "outputs": [
    {
     "name": "stdout",
     "output_type": "stream",
     "text": [
      "[[2.5 6.1]\n",
      " [8.1 1.2]]\n",
      "----shape----\n"
     ]
    },
    {
     "data": {
      "text/plain": [
       "(2, 2)"
      ]
     },
     "execution_count": 14,
     "metadata": {},
     "output_type": "execute_result"
    }
   ],
   "source": [
    "print(b)\n",
    "print(\"----shape----\")\n",
    "b.shape"
   ]
  },
  {
   "cell_type": "code",
   "execution_count": 15,
   "metadata": {},
   "outputs": [
    {
     "name": "stdout",
     "output_type": "stream",
     "text": [
      "[[0. 0.]\n",
      " [0. 0.]]\n"
     ]
    }
   ],
   "source": [
    "# create empty..zero..array\n",
    "c = np.zeros((2,2))\n",
    "print(c)"
   ]
  },
  {
   "cell_type": "code",
   "execution_count": 17,
   "metadata": {},
   "outputs": [
    {
     "data": {
      "text/plain": [
       "dtype('float64')"
      ]
     },
     "execution_count": 17,
     "metadata": {},
     "output_type": "execute_result"
    }
   ],
   "source": [
    "# dtype to see what kind of array it is\n",
    "c.dtype"
   ]
  },
  {
   "cell_type": "code",
   "execution_count": 18,
   "metadata": {},
   "outputs": [
    {
     "name": "stdout",
     "output_type": "stream",
     "text": [
      "[[1. 1. 1.]\n",
      " [1. 1. 1.]\n",
      " [1. 1. 1.]]\n"
     ]
    },
    {
     "data": {
      "text/plain": [
       "dtype('float64')"
      ]
     },
     "execution_count": 18,
     "metadata": {},
     "output_type": "execute_result"
    }
   ],
   "source": [
    "# full array function\n",
    "# ones\n",
    "d = np.ones((3,3))\n",
    "print(d)\n",
    "d.dtype"
   ]
  },
  {
   "cell_type": "code",
   "execution_count": 19,
   "metadata": {},
   "outputs": [
    {
     "name": "stdout",
     "output_type": "stream",
     "text": [
      "[[7 7 7 7]\n",
      " [7 7 7 7]\n",
      " [7 7 7 7]\n",
      " [7 7 7 7]]\n"
     ]
    }
   ],
   "source": [
    "# anynumber\n",
    "e = np.full((4,4),7)\n",
    "print(e)"
   ]
  },
  {
   "cell_type": "code",
   "execution_count": 28,
   "metadata": {},
   "outputs": [
    {
     "name": "stdout",
     "output_type": "stream",
     "text": [
      "[[0.0647507  0.59301248 0.26354204 0.05531653 0.88990367]\n",
      " [0.70273817 0.75791406 0.55928974 0.77339229 0.30098702]\n",
      " [0.44285859 0.91634345 0.29149559 0.16134244 0.47718203]\n",
      " [0.15053261 0.83401774 0.96901432 0.89755328 0.6909616 ]\n",
      " [0.93858127 0.57532875 0.6914822  0.9222319  0.67075964]]\n"
     ]
    },
    {
     "data": {
      "text/plain": [
       "dtype('float64')"
      ]
     },
     "execution_count": 28,
     "metadata": {},
     "output_type": "execute_result"
    }
   ],
   "source": [
    "# random number\n",
    "f = np.random.random((5,5))\n",
    "print(f)"
   ]
  },
  {
   "cell_type": "code",
   "execution_count": 32,
   "metadata": {},
   "outputs": [
    {
     "name": "stdout",
     "output_type": "stream",
     "text": [
      "[[ 1  2  3  4]\n",
      " [ 5  6  7  8]\n",
      " [ 9 10 11 12]]\n"
     ]
    },
    {
     "data": {
      "text/plain": [
       "(3, 4)"
      ]
     },
     "execution_count": 32,
     "metadata": {},
     "output_type": "execute_result"
    }
   ],
   "source": [
    "g = np.array([[1,2,3,4],[5,6,7,8],[9,10,11,12]])\n",
    "print(g)\n",
    "g.shape"
   ]
  },
  {
   "cell_type": "code",
   "execution_count": 33,
   "metadata": {},
   "outputs": [
    {
     "name": "stdout",
     "output_type": "stream",
     "text": [
      "[[2 3]\n",
      " [6 7]]\n"
     ]
    }
   ],
   "source": [
    "# two rows and cols\n",
    "# [ : first x rows, start col : end before col ]\n",
    "# first 2 rows, starting at 1 to before 3\n",
    "f = g[:2, 1:3]\n",
    "print(f)"
   ]
  },
  {
   "cell_type": "code",
   "execution_count": 34,
   "metadata": {},
   "outputs": [
    {
     "name": "stdout",
     "output_type": "stream",
     "text": [
      "3\n"
     ]
    }
   ],
   "source": [
    "# print value at [0,2]\n",
    "print(g[0,2])"
   ]
  },
  {
   "cell_type": "code",
   "execution_count": 35,
   "metadata": {},
   "outputs": [
    {
     "name": "stdout",
     "output_type": "stream",
     "text": [
      "[[ 1  2  3  4]\n",
      " [ 5  6  7  8]\n",
      " [ 9 10 11 12]]\n"
     ]
    }
   ],
   "source": [
    "print(g)"
   ]
  },
  {
   "cell_type": "code",
   "execution_count": 38,
   "metadata": {},
   "outputs": [],
   "source": [
    "# change the value at [0,0]\n",
    "g[0,0] = 77"
   ]
  },
  {
   "cell_type": "code",
   "execution_count": 37,
   "metadata": {},
   "outputs": [
    {
     "name": "stdout",
     "output_type": "stream",
     "text": [
      "[[77  2  3  4]\n",
      " [ 5  6  7  8]\n",
      " [ 9 10 11 12]]\n"
     ]
    }
   ],
   "source": [
    "print(g)"
   ]
  },
  {
   "cell_type": "code",
   "execution_count": 39,
   "metadata": {},
   "outputs": [
    {
     "data": {
      "text/plain": [
       "(3, 4)"
      ]
     },
     "execution_count": 39,
     "metadata": {},
     "output_type": "execute_result"
    }
   ],
   "source": [
    "g.shape"
   ]
  },
  {
   "cell_type": "code",
   "execution_count": 43,
   "metadata": {},
   "outputs": [
    {
     "name": "stdout",
     "output_type": "stream",
     "text": [
      "[77  2  3  4  5  6  7  8  9 10 11 12]\n"
     ]
    }
   ],
   "source": [
    "h = g.reshape((12,))\n",
    "print(h)"
   ]
  },
  {
   "cell_type": "code",
   "execution_count": 44,
   "metadata": {},
   "outputs": [
    {
     "data": {
      "text/plain": [
       "dtype('int32')"
      ]
     },
     "execution_count": 44,
     "metadata": {},
     "output_type": "execute_result"
    }
   ],
   "source": [
    "h.dtype"
   ]
  },
  {
   "cell_type": "code",
   "execution_count": 47,
   "metadata": {},
   "outputs": [
    {
     "name": "stdout",
     "output_type": "stream",
     "text": [
      "[1. 5. 2.]\n"
     ]
    },
    {
     "data": {
      "text/plain": [
       "dtype('float64')"
      ]
     },
     "execution_count": 47,
     "metadata": {},
     "output_type": "execute_result"
    }
   ],
   "source": [
    "# force the type of the array\n",
    "nal = np.array([1,5,2], dtype=np.float64)\n",
    "print(nal)\n",
    "nal.dtype"
   ]
  },
  {
   "cell_type": "markdown",
   "metadata": {},
   "source": [
    "## Math "
   ]
  },
  {
   "cell_type": "code",
   "execution_count": 50,
   "metadata": {},
   "outputs": [
    {
     "name": "stdout",
     "output_type": "stream",
     "text": [
      "[3.33 4.44]\n",
      "[1.53 2.32]\n",
      "-------\n",
      "[4.86 6.76]\n"
     ]
    }
   ],
   "source": [
    "na2 = np.array([3.33, 4.44], dtype = np.float64)\n",
    "print(na2)\n",
    "na3 = np.array([1.53, 2.32], dtype = np.float64)\n",
    "print(na3)\n",
    "print(\"-------\")\n",
    "# must be of the same dimensions\n",
    "print(na2 + na3)"
   ]
  },
  {
   "cell_type": "code",
   "execution_count": 51,
   "metadata": {},
   "outputs": [
    {
     "name": "stdout",
     "output_type": "stream",
     "text": [
      "[1.8  2.12]\n"
     ]
    }
   ],
   "source": [
    "# subtraction\n",
    "print(na2 - na3)"
   ]
  },
  {
   "cell_type": "code",
   "execution_count": 52,
   "metadata": {},
   "outputs": [
    {
     "name": "stdout",
     "output_type": "stream",
     "text": [
      "[ 5.0949 10.3008]\n"
     ]
    }
   ],
   "source": [
    "# multiplication\n",
    "print(na2 * na3)"
   ]
  },
  {
   "cell_type": "code",
   "execution_count": 53,
   "metadata": {},
   "outputs": [
    {
     "name": "stdout",
     "output_type": "stream",
     "text": [
      "[2.17647059 1.9137931 ]\n"
     ]
    }
   ],
   "source": [
    "#division\n",
    "print(na2 / na3)"
   ]
  },
  {
   "cell_type": "code",
   "execution_count": 59,
   "metadata": {},
   "outputs": [
    {
     "name": "stdout",
     "output_type": "stream",
     "text": [
      "[3.33 4.44]\n",
      "[1.53 2.32]\n",
      "-----------\n",
      "[4.86 6.76]\n"
     ]
    }
   ],
   "source": [
    "# verticle\n",
    "print(na2)\n",
    "print(na3)\n",
    "print(\"-----------\")\n",
    "print(na2 + na3)"
   ]
  },
  {
   "cell_type": "code",
   "execution_count": 63,
   "metadata": {},
   "outputs": [
    {
     "name": "stdout",
     "output_type": "stream",
     "text": [
      "[3.33 4.44]\n",
      "[1.53 2.32]\n",
      "--down--\n",
      "[4.86 6.76]\n",
      "--across--\n",
      "[1.53 2.32]\n",
      "3.8499999999999996\n"
     ]
    }
   ],
   "source": [
    "# horizontal\n",
    "print(na2)\n",
    "print(na3)\n",
    "print(\"--down--\")\n",
    "print(na2 + na3)\n",
    "print(\"--across--\")\n",
    "print(na3)\n",
    "print(np.sum(na3, axis = 0))"
   ]
  },
  {
   "cell_type": "code",
   "execution_count": 65,
   "metadata": {},
   "outputs": [
    {
     "name": "stdout",
     "output_type": "stream",
     "text": [
      "[[ 1  2  3]\n",
      " [ 4  5  6]\n",
      " [ 7  8  9]\n",
      " [10 11 12]]\n"
     ]
    },
    {
     "data": {
      "text/plain": [
       "(4, 3)"
      ]
     },
     "execution_count": 65,
     "metadata": {},
     "output_type": "execute_result"
    }
   ],
   "source": [
    "# broadcasting\n",
    "xx = np.array([[1,2,3],[4,5,6],[7,8,9],[10,11,12]])\n",
    "print(xx)\n",
    "xx.shape"
   ]
  },
  {
   "cell_type": "code",
   "execution_count": 66,
   "metadata": {},
   "outputs": [
    {
     "name": "stdout",
     "output_type": "stream",
     "text": [
      "[1 0 1]\n"
     ]
    }
   ],
   "source": [
    "v = np.array([1,0,1])\n",
    "print(v)"
   ]
  },
  {
   "cell_type": "code",
   "execution_count": 67,
   "metadata": {},
   "outputs": [
    {
     "name": "stdout",
     "output_type": "stream",
     "text": [
      "[[1 0 1]\n",
      " [1 0 1]\n",
      " [1 0 1]\n",
      " [1 0 1]]\n"
     ]
    }
   ],
   "source": [
    "# tile\n",
    "vv = np.tile(v, (4,1))\n",
    "print(vv)"
   ]
  },
  {
   "cell_type": "code",
   "execution_count": 68,
   "metadata": {},
   "outputs": [
    {
     "name": "stdout",
     "output_type": "stream",
     "text": [
      "[[ 2  2  4]\n",
      " [ 5  5  7]\n",
      " [ 8  8 10]\n",
      " [11 11 13]]\n"
     ]
    }
   ],
   "source": [
    "print(xx + vv)"
   ]
  },
  {
   "cell_type": "code",
   "execution_count": 69,
   "metadata": {},
   "outputs": [
    {
     "name": "stdout",
     "output_type": "stream",
     "text": [
      "# get numpy (preinstalled in Anaconda)\n",
      "import numpy as np\n",
      "# get numpy (preinstalled in Anaconda)\n",
      "import numpy as np\n",
      "# np and the [TAB] key\n",
      "np.version\n",
      "a = np.array{[1,2,3]}\n",
      "print(type(a))\n",
      "a = np.array([1,2,3])\n",
      "print(type(a))\n",
      "print(\"The Shape\")\n",
      "a.shape\n",
      "print(a)\n",
      "# rank 2 array\n",
      "b = np.array()\n",
      "# rank 2 array\n",
      "b = np.array([2.5,6.1],[8.1,1.2])\n",
      "# rank 2 array\n",
      "b = np.array([2.5,6.1],[8.0,1.2])\n",
      "# rank 2 array ([[,],[,]])\n",
      "b = np.array([[2.5,6.1],[8.1,1.2]])\n",
      "print(b)\n",
      "print(\"----shape----\")\n",
      "b.shape\n",
      "# create empty..zero..array\n",
      "c = np.zeros((2,2))\n",
      "print(c)\n",
      "b.dtype\n",
      "c.dtype\n",
      "# full array function\n",
      "# ones\n",
      "d = np.ones((3,3))\n",
      "print(d)\n",
      "d.dtype\n",
      "# anynumber\n",
      "e = np.full((4,4),7)\n",
      "print(e)\n",
      "# random number\n",
      "f = np.random.random\n",
      "# random number\n",
      "f = np.random.random((5,5))\n",
      "# random number\n",
      "f = np.random.random((5,5))\n",
      "print(f)\n",
      "# random number\n",
      "f = np.random.random_integer((5,5))\n",
      "print(f)\n",
      "# random number\n",
      "f = np.random.randint((5,5))\n",
      "print(f)\n",
      "# random number\n",
      "f = np.random.random((5,5))\n",
      "print(f)\n",
      "# random number\n",
      "f = np.random.random((5,5))\n",
      "print(f)\n",
      "print(type(f))\n",
      "# random number\n",
      "f = np.random.random((5,5))\n",
      "print(f)\n",
      "dtype(f)\n",
      "# random number\n",
      "f = np.random.random((5,5))\n",
      "print(f)\n",
      "f.dtype\n",
      "g = np.array([[1,2,3,4],[5,6,7,8],[9,10,11,12]])\n",
      "g = np.array([[1,2,3,4],[5,6,7,8],[9,10,11,12]])\n",
      "g = np.array([[1,2,3,4],[5,6,7,8],[9,10,11,12]])\n",
      "print(g)\n",
      "g.shape()\n",
      "g = np.array([[1,2,3,4],[5,6,7,8],[9,10,11,12]])\n",
      "print(g)\n",
      "g.shape\n",
      "# two rows and cols\n",
      "f = g[:2, 1:3]\n",
      "print(f)\n",
      "print(g[0,2])\n",
      "print(g)\n",
      "g[0,0] = 77\n",
      "print(g)\n",
      "g[0,0] = 77\n",
      "g.shape\n",
      "g = g.reshape((12,1))\n",
      "print(h)\n",
      "h = g.reshape((12,1))\n",
      "print(h)\n",
      "h = g.reshape((12,0))\n",
      "print(h)\n",
      "h = g.reshape((12,))\n",
      "print(h)\n",
      "h.dtype\n",
      "nap = np.array([1,5,2]), dtype=np.float64\n",
      "print(nap)\n",
      "nap.dtype\n",
      "nal = np.array([1,5,2]), dtype=np.float64\n",
      "print(nal)\n",
      "nal.dtype\n",
      "nal = np.array([1,5,2], dtype=np.float64)\n",
      "print(nal)\n",
      "nal.dtype\n",
      "na2 = np.array([3.33, 4.44], dtype = np.float64)\n",
      "na2 = np.array([3.33, 4.44], dtype = np.float64)\n",
      "print(na2)\n",
      "na2 = np.array([3.33, 4.44], dtype = np.float64)\n",
      "print(na2)\n",
      "na3 = np.array([1.53, 2.32], dtype = np.float64)\n",
      "print(na3)\n",
      "print(\"-------\")\n",
      "# must be of the same dimensions\n",
      "print(na2 + na3)\n",
      "# subtraction\n",
      "print(na2 - na3)\n",
      "# multiplication\n",
      "print(na2 * na3)\n",
      "#division\n",
      "print(na2 / na3)\n",
      "# verticla\n",
      "print(na2)\n",
      "# verticle\n",
      "print(na2)\n",
      "print(na3)\n",
      "print(\"------\")\n",
      "print(na2 + na3)\n",
      "# verticle\n",
      "print(na2)\n",
      "print(na3)\n",
      "print(\"--------\")\n",
      "print(na2 + na3)\n",
      "# verticle\n",
      "print(na2)\n",
      "print(na3)\n",
      "print(\"----------\")\n",
      "print(na2 + na3)\n",
      "# verticle\n",
      "print(na2)\n",
      "print(na3)\n",
      "print(\"------_----\")\n",
      "print(na2 + na3)\n",
      "# verticle\n",
      "print(na2)\n",
      "print(na3)\n",
      "print(\"-----------\")\n",
      "print(na2 + na3)\n",
      "# horizontal\n",
      "print(na2)\n",
      "print(na3)\n",
      "print(\"--down--\")\n",
      "print(na2 + na3)\n",
      "print(\"--across--\")\n",
      "print(np.sum(na3, axis = 0))\n",
      "# horizontal\n",
      "print(na2)\n",
      "print(na3)\n",
      "print(\"--down--\")\n",
      "print(na2 + na3)\n",
      "print(\"--across--\")\n",
      "print(na3\n",
      "print(np.sum(na3, axis = 0))\n",
      "# horizontal\n",
      "print(na2)\n",
      "print(na3)\n",
      "print(\"--down--\")\n",
      "print(na2 + na3)\n",
      "print(\"--across--\")\n",
      "print(na3)\n",
      "print(np.sum(na3, axis = 0))\n",
      "# horizontal\n",
      "print(na2)\n",
      "print(na3)\n",
      "print(\"--down--\")\n",
      "print(na2 + na3)\n",
      "print(\"--across--\")\n",
      "print(na3)\n",
      "print(np.sum(na3, axis = 0))\n",
      "# broadcasting\n",
      "xx = np.array([1,2,3],[4,5,6],[7,8,9],[10,11,12])\n",
      "print(xx)\n",
      "xx.shape\n",
      "# broadcasting\n",
      "xx = np.array([[1,2,3],[4,5,6],[7,8,9],[10,11,12]])\n",
      "print(xx)\n",
      "xx.shape\n",
      "v = np.array([1,0,1])\n",
      "print(v)\n",
      "# tile\n",
      "vv = np.tile(v, (4,1))\n",
      "print(vv)\n",
      "print(xx + vv)\n",
      "%history\n"
     ]
    }
   ],
   "source": [
    "# print everything that was ran on this notebook\n",
    "%history"
   ]
  },
  {
   "cell_type": "code",
   "execution_count": 70,
   "metadata": {},
   "outputs": [
    {
     "name": "stdout",
     "output_type": "stream",
     "text": [
      "   1:\n",
      "# get numpy (preinstalled in Anaconda)\n",
      "import numpy as np\n",
      "   2:\n",
      "# get numpy (preinstalled in Anaconda)\n",
      "import numpy as np\n",
      "   3:\n",
      "# np and the [TAB] key\n",
      "np.version\n",
      "   4: a = np.array{[1,2,3]}\n",
      "   5: print(type(a))\n",
      "   6: a = np.array([1,2,3])\n",
      "   7: print(type(a))\n",
      "   8:\n",
      "print(\"The Shape\")\n",
      "a.shape\n",
      "   9: print(a)\n",
      "  10:\n",
      "# rank 2 array\n",
      "b = np.array()\n",
      "  11:\n",
      "# rank 2 array\n",
      "b = np.array([2.5,6.1],[8.1,1.2])\n",
      "  12:\n",
      "# rank 2 array\n",
      "b = np.array([2.5,6.1],[8.0,1.2])\n",
      "  13:\n",
      "# rank 2 array ([[,],[,]])\n",
      "b = np.array([[2.5,6.1],[8.1,1.2]])\n",
      "  14:\n",
      "print(b)\n",
      "print(\"----shape----\")\n",
      "b.shape\n",
      "  15:\n",
      "# create empty..zero..array\n",
      "c = np.zeros((2,2))\n",
      "print(c)\n",
      "  16: b.dtype\n",
      "  17: c.dtype\n",
      "  18:\n",
      "# full array function\n",
      "# ones\n",
      "d = np.ones((3,3))\n",
      "print(d)\n",
      "d.dtype\n",
      "  19:\n",
      "# anynumber\n",
      "e = np.full((4,4),7)\n",
      "print(e)\n",
      "  20:\n",
      "# random number\n",
      "f = np.random.random\n",
      "  21:\n",
      "# random number\n",
      "f = np.random.random((5,5))\n",
      "  22:\n",
      "# random number\n",
      "f = np.random.random((5,5))\n",
      "print(f)\n",
      "  23:\n",
      "# random number\n",
      "f = np.random.random_integer((5,5))\n",
      "print(f)\n",
      "  24:\n",
      "# random number\n",
      "f = np.random.randint((5,5))\n",
      "print(f)\n",
      "  25:\n",
      "# random number\n",
      "f = np.random.random((5,5))\n",
      "print(f)\n",
      "  26:\n",
      "# random number\n",
      "f = np.random.random((5,5))\n",
      "print(f)\n",
      "print(type(f))\n",
      "  27:\n",
      "# random number\n",
      "f = np.random.random((5,5))\n",
      "print(f)\n",
      "dtype(f)\n",
      "  28:\n",
      "# random number\n",
      "f = np.random.random((5,5))\n",
      "print(f)\n",
      "f.dtype\n",
      "  29: g = np.array([[1,2,3,4],[5,6,7,8],[9,10,11,12]])\n",
      "  30: g = np.array([[1,2,3,4],[5,6,7,8],[9,10,11,12]])\n",
      "  31:\n",
      "g = np.array([[1,2,3,4],[5,6,7,8],[9,10,11,12]])\n",
      "print(g)\n",
      "g.shape()\n",
      "  32:\n",
      "g = np.array([[1,2,3,4],[5,6,7,8],[9,10,11,12]])\n",
      "print(g)\n",
      "g.shape\n",
      "  33:\n",
      "# two rows and cols\n",
      "f = g[:2, 1:3]\n",
      "print(f)\n",
      "  34: print(g[0,2])\n",
      "  35: print(g)\n",
      "  36: g[0,0] = 77\n",
      "  37: print(g)\n",
      "  38: g[0,0] = 77\n",
      "  39: g.shape\n",
      "  40:\n",
      "g = g.reshape((12,1))\n",
      "print(h)\n",
      "  41:\n",
      "h = g.reshape((12,1))\n",
      "print(h)\n",
      "  42:\n",
      "h = g.reshape((12,0))\n",
      "print(h)\n",
      "  43:\n",
      "h = g.reshape((12,))\n",
      "print(h)\n",
      "  44: h.dtype\n",
      "  45:\n",
      "nap = np.array([1,5,2]), dtype=np.float64\n",
      "print(nap)\n",
      "nap.dtype\n",
      "  46:\n",
      "nal = np.array([1,5,2]), dtype=np.float64\n",
      "print(nal)\n",
      "nal.dtype\n",
      "  47:\n",
      "nal = np.array([1,5,2], dtype=np.float64)\n",
      "print(nal)\n",
      "nal.dtype\n",
      "  48: na2 = np.array([3.33, 4.44], dtype = np.float64)\n",
      "  49:\n",
      "na2 = np.array([3.33, 4.44], dtype = np.float64)\n",
      "print(na2)\n",
      "  50:\n",
      "na2 = np.array([3.33, 4.44], dtype = np.float64)\n",
      "print(na2)\n",
      "na3 = np.array([1.53, 2.32], dtype = np.float64)\n",
      "print(na3)\n",
      "print(\"-------\")\n",
      "# must be of the same dimensions\n",
      "print(na2 + na3)\n",
      "  51:\n",
      "# subtraction\n",
      "print(na2 - na3)\n",
      "  52:\n",
      "# multiplication\n",
      "print(na2 * na3)\n",
      "  53:\n",
      "#division\n",
      "print(na2 / na3)\n",
      "  54:\n",
      "# verticla\n",
      "print(na2)\n",
      "  55:\n",
      "# verticle\n",
      "print(na2)\n",
      "print(na3)\n",
      "print(\"------\")\n",
      "print(na2 + na3)\n",
      "  56:\n",
      "# verticle\n",
      "print(na2)\n",
      "print(na3)\n",
      "print(\"--------\")\n",
      "print(na2 + na3)\n",
      "  57:\n",
      "# verticle\n",
      "print(na2)\n",
      "print(na3)\n",
      "print(\"----------\")\n",
      "print(na2 + na3)\n",
      "  58:\n",
      "# verticle\n",
      "print(na2)\n",
      "print(na3)\n",
      "print(\"------_----\")\n",
      "print(na2 + na3)\n",
      "  59:\n",
      "# verticle\n",
      "print(na2)\n",
      "print(na3)\n",
      "print(\"-----------\")\n",
      "print(na2 + na3)\n",
      "  60:\n",
      "# horizontal\n",
      "print(na2)\n",
      "print(na3)\n",
      "print(\"--down--\")\n",
      "print(na2 + na3)\n",
      "print(\"--across--\")\n",
      "print(np.sum(na3, axis = 0))\n",
      "  61:\n",
      "# horizontal\n",
      "print(na2)\n",
      "print(na3)\n",
      "print(\"--down--\")\n",
      "print(na2 + na3)\n",
      "print(\"--across--\")\n",
      "print(na3\n",
      "print(np.sum(na3, axis = 0))\n",
      "  62:\n",
      "# horizontal\n",
      "print(na2)\n",
      "print(na3)\n",
      "print(\"--down--\")\n",
      "print(na2 + na3)\n",
      "print(\"--across--\")\n",
      "print(na3)\n",
      "print(np.sum(na3, axis = 0))\n",
      "  63:\n",
      "# horizontal\n",
      "print(na2)\n",
      "print(na3)\n",
      "print(\"--down--\")\n",
      "print(na2 + na3)\n",
      "print(\"--across--\")\n",
      "print(na3)\n",
      "print(np.sum(na3, axis = 0))\n",
      "  64:\n",
      "# broadcasting\n",
      "xx = np.array([1,2,3],[4,5,6],[7,8,9],[10,11,12])\n",
      "print(xx)\n",
      "xx.shape\n",
      "  65:\n",
      "# broadcasting\n",
      "xx = np.array([[1,2,3],[4,5,6],[7,8,9],[10,11,12]])\n",
      "print(xx)\n",
      "xx.shape\n",
      "  66:\n",
      "v = np.array([1,0,1])\n",
      "print(v)\n",
      "  67:\n",
      "# tile\n",
      "vv = np.tile(v, (4,1))\n",
      "print(vv)\n",
      "  68: print(xx + vv)\n",
      "  69: %history\n",
      "  70: %history -n\n"
     ]
    }
   ],
   "source": [
    "%history -n"
   ]
  },
  {
   "cell_type": "code",
   "execution_count": null,
   "metadata": {},
   "outputs": [],
   "source": []
  }
 ],
 "metadata": {
  "kernelspec": {
   "display_name": "Python 3",
   "language": "python",
   "name": "python3"
  },
  "language_info": {
   "codemirror_mode": {
    "name": "ipython",
    "version": 3
   },
   "file_extension": ".py",
   "mimetype": "text/x-python",
   "name": "python",
   "nbconvert_exporter": "python",
   "pygments_lexer": "ipython3",
   "version": "3.7.3"
  }
 },
 "nbformat": 4,
 "nbformat_minor": 2
}
