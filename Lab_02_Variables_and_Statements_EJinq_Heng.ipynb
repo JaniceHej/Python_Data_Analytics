{
 "cells": [
  {
   "cell_type": "markdown",
   "metadata": {},
   "source": [
    "# Week 2 Lab Assignment\n",
    "# CIS 2266\n",
    "## Variables and Statements\n",
    "### E Jinq Heng"
   ]
  },
  {
   "cell_type": "markdown",
   "metadata": {},
   "source": [
    "- Write a program to prompt the user for hours and rate per hour using input to compute gross pay.\n",
    "- Use 35 hours and a rate of 2.75 per hour to test the program (the pay should be 96.25).\n",
    "- You should use input to read a string and float() to convert the string to a number.\n",
    "- Do not worry about error checking or bad user data."
   ]
  },
  {
   "cell_type": "code",
   "execution_count": 1,
   "metadata": {
    "scrolled": true
   },
   "outputs": [
    {
     "name": "stdout",
     "output_type": "stream",
     "text": [
      "Hours Worked: 35\n",
      "Hourly Rate : 2.75\n"
     ]
    }
   ],
   "source": [
    "# Get user input\n",
    "hoursWorked = input(\"Hours Worked: \")\n",
    "hourlyRate = input(\"Hourly Rate : \")"
   ]
  },
  {
   "cell_type": "code",
   "execution_count": 2,
   "metadata": {},
   "outputs": [],
   "source": [
    "# Create equation for gross pay\n",
    "grossPay = float(hoursWorked) * float(hourlyRate)"
   ]
  },
  {
   "cell_type": "code",
   "execution_count": 3,
   "metadata": {},
   "outputs": [
    {
     "name": "stdout",
     "output_type": "stream",
     "text": [
      "You worked 35 hours and make $2.75 per hour.\n",
      "Your gross pay is $96.25!\n"
     ]
    }
   ],
   "source": [
    "# Print output\n",
    "print(\"You worked \" + hoursWorked + \" hours and make $\" + hourlyRate + \" per hour.\")\n",
    "print(\"Your gross pay is $\" + str(grossPay) + \"!\")"
   ]
  }
 ],
 "metadata": {
  "kernelspec": {
   "display_name": "Python 3",
   "language": "python",
   "name": "python3"
  },
  "language_info": {
   "codemirror_mode": {
    "name": "ipython",
    "version": 3
   },
   "file_extension": ".py",
   "mimetype": "text/x-python",
   "name": "python",
   "nbconvert_exporter": "python",
   "pygments_lexer": "ipython3",
   "version": "3.7.3"
  }
 },
 "nbformat": 4,
 "nbformat_minor": 2
}
